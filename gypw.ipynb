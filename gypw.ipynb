{
 "cells": [
  {
   "cell_type": "code",
   "execution_count": 1,
   "metadata": {},
   "outputs": [],
   "source": [
    "from gwpy.timeseries import TimeSeries\n",
    "from numpy.random import random\n",
    "\n",
    "# h1 and l1 are time series"
   ]
  },
  {
   "cell_type": "code",
   "execution_count": 2,
   "metadata": {},
   "outputs": [],
   "source": [
    "t = TimeSeries(random(1000))\n",
    "# timeseries of random data"
   ]
  },
  {
   "cell_type": "code",
   "execution_count": 5,
   "metadata": {},
   "outputs": [
    {
     "name": "stdout",
     "output_type": "stream",
     "text": [
      "TimeSeries([0.08732078, 0.2088739 , 0.77247084, ..., 0.48691655,\n",
      "            0.98540592, 0.92980133]\n",
      "           unit: dimensionless,\n",
      "           t0: 0.0 s,\n",
      "           dt: 1.0 s,\n",
      "           name: None,\n",
      "           channel: None)\n"
     ]
    }
   ],
   "source": [
    "print(t)\n",
    "\n",
    "plot = t.plot()\n",
    "plot.show()"
   ]
  },
  {
   "cell_type": "code",
   "execution_count": 6,
   "metadata": {},
   "outputs": [
    {
     "name": "stdout",
     "output_type": "stream",
     "text": [
      "<class 'gwpy.timeseries.timeseries.TimeSeries'>\n"
     ]
    }
   ],
   "source": [
    "h1 = TimeSeries.fetch_open_data('H1', 1126259457, 1126259467)\n",
    "l1 = TimeSeries.fetch_open_data('L1', 1126259457, 1126259467)\n",
    "print(type(h1))"
   ]
  },
  {
   "cell_type": "code",
   "execution_count": 7,
   "metadata": {},
   "outputs": [],
   "source": [
    "h1b = h1.bandpass(50, 250).notch(60).notch(120)\n",
    "l1b = l1.bandpass(50, 250).notch(60).notch(120)\n",
    "l1b.shift('6.9ms')\n",
    "l1b *= -1"
   ]
  },
  {
   "cell_type": "code",
   "execution_count": null,
   "metadata": {},
   "outputs": [
    {
     "ename": "Error",
     "evalue": "Session cannot generate requests",
     "output_type": "error",
     "traceback": [
      "Error: Session cannot generate requests",
      "at S.executeCodeCell (c:\\Users\\sevi\\.vscode\\extensions\\ms-toolsai.jupyter-2021.10.1001414422\\out\\client\\extension.js:66:301742)",
      "at S.execute (c:\\Users\\sevi\\.vscode\\extensions\\ms-toolsai.jupyter-2021.10.1001414422\\out\\client\\extension.js:66:300732)",
      "at S.start (c:\\Users\\sevi\\.vscode\\extensions\\ms-toolsai.jupyter-2021.10.1001414422\\out\\client\\extension.js:66:296408)",
      "at processTicksAndRejections (internal/process/task_queues.js:93:5)",
      "at t.CellExecutionQueue.executeQueuedCells (c:\\Users\\sevi\\.vscode\\extensions\\ms-toolsai.jupyter-2021.10.1001414422\\out\\client\\extension.js:66:312326)",
      "at t.CellExecutionQueue.start (c:\\Users\\sevi\\.vscode\\extensions\\ms-toolsai.jupyter-2021.10.1001414422\\out\\client\\extension.js:66:311862)"
     ]
    }
   ],
   "source": [
    "from gwpy.plot import Plot\n",
    "plot = Plot(figsize=(12, 4))\n",
    "ax = plot.add_subplot(xscale='auto-gps')\n",
    "ax.plot(h1b, color='green', label='LIGO-Hanford')\n",
    "ax.plot(l1b, color='hotpink', label='LIGO-Livingston')\n",
    "ax.set_epoch(1126259462.427)\n",
    "ax.set_xlim(1126259462.2, 1126259462.5)\n",
    "ax.set_ylim(-1e-21, 1e-21)\n",
    "ax.set_ylabel('Strain noise')\n",
    "ax.set_facecolor('black')\n",
    "ax.legend()\n",
    "\n",
    "\n",
    "plot.show()"
   ]
  },
  {
   "cell_type": "code",
   "execution_count": null,
   "metadata": {},
   "outputs": [],
   "source": []
  },
  {
   "cell_type": "code",
   "execution_count": null,
   "metadata": {},
   "outputs": [],
   "source": []
  },
  {
   "cell_type": "code",
   "execution_count": null,
   "metadata": {},
   "outputs": [],
   "source": []
  },
  {
   "cell_type": "code",
   "execution_count": null,
   "metadata": {},
   "outputs": [],
   "source": []
  }
 ],
 "metadata": {
  "interpreter": {
   "hash": "17e912feb339ec62dac2d8f81293d2743d3270cdf1932db58f1ab03f94850bbd"
  },
  "kernelspec": {
   "display_name": "Python 3.10.0 64-bit",
   "language": "python",
   "name": "python3"
  },
  "language_info": {
   "codemirror_mode": {
    "name": "ipython",
    "version": 3
   },
   "file_extension": ".py",
   "mimetype": "text/x-python",
   "name": "python",
   "nbconvert_exporter": "python",
   "pygments_lexer": "ipython3",
   "version": "3.8.8"
  },
  "orig_nbformat": 4
 },
 "nbformat": 4,
 "nbformat_minor": 2
}
